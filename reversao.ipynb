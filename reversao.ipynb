{
  "cells": [
    {
      "cell_type": "markdown",
      "metadata": {
        "id": "2gnV_oCUNqXX"
      },
      "source": [
        "**Código de Reversão de String com Pilha**"
      ]
    },
    {
      "cell_type": "code",
      "execution_count": 1,
      "metadata": {
        "id": "RMxxJx94NrQd"
      },
      "outputs": [
        {
          "name": "stdout",
          "output_type": "stream",
          "text": [
            "String revertida: 21\n"
          ]
        }
      ],
      "source": [
        "# Classes No e Pilha\n",
        "\n",
        "class No:\n",
        "    def __init__(self, valor):\n",
        "        self.valor = valor\n",
        "        self.proximo = None\n",
        "\n",
        "class Pilha:\n",
        "    def __init__(self):\n",
        "        self.topo = None\n",
        "\n",
        "    # Adiciona um elemento no topo da pilha\n",
        "    def push(self, valor):\n",
        "        novo_no = No(valor)\n",
        "        novo_no.proximo = self.topo\n",
        "        self.topo = novo_no\n",
        "\n",
        "    # Remove um elemento do topo da pilha\n",
        "    def pop(self):\n",
        "        if self.topo is not None:\n",
        "            removido = self.topo\n",
        "            self.topo = self.topo.proximo\n",
        "            return removido.valor\n",
        "        raise Exception(\"Pilha vazia.\")\n",
        "\n",
        "    # Acessar o topo da pilha sem realizar a remoção\n",
        "    def peek(self):\n",
        "        if self.topo is not None:\n",
        "            return self.topo.valor\n",
        "        raise Exception(\"Pilha vazia.\")\n",
        "\n",
        "# Função para reverter uma string usando a pilha\n",
        "def reverter_string(input_string):\n",
        "    pilha = Pilha()\n",
        "\n",
        "    # Inserir cada caractere da string na pilha\n",
        "    for caractere in input_string:\n",
        "        pilha.push(caractere)\n",
        "\n",
        "    # Remover os caracteres da pilha e formar a string invertida\n",
        "    string_revertida = \"\"\n",
        "    while pilha.topo is not None:\n",
        "        string_revertida += pilha.pop()\n",
        "\n",
        "    return string_revertida\n",
        "\n",
        "# Entrada do usuário\n",
        "entrada = input(\"Digite a string a ser revertida: \")\n",
        "\n",
        "# Reverter a string\n",
        "resultado = reverter_string(entrada)\n",
        "\n",
        "# Exibir o resultado\n",
        "print(f\"String revertida: {resultado}\")\n"
      ]
    }
  ],
  "metadata": {
    "colab": {
      "provenance": []
    },
    "kernelspec": {
      "display_name": "Python 3",
      "name": "python3"
    },
    "language_info": {
      "codemirror_mode": {
        "name": "ipython",
        "version": 3
      },
      "file_extension": ".py",
      "mimetype": "text/x-python",
      "name": "python",
      "nbconvert_exporter": "python",
      "pygments_lexer": "ipython3",
      "version": "3.12.4"
    }
  },
  "nbformat": 4,
  "nbformat_minor": 0
}
